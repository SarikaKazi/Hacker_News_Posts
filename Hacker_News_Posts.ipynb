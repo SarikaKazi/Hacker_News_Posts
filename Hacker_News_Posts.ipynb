{
 "cells": [
  {
   "cell_type": "markdown",
   "metadata": {
    "collapsed": true
   },
   "source": [
    "# Hacker News Posts"
   ]
  },
  {
   "cell_type": "markdown",
   "metadata": {},
   "source": [
    "Hacker News is a site started by the startup incubator Y Combinator, where user-submitted stories (known as \"posts\") are voted and commented upon, similar to reddit. Hacker News is extremely popular in technology and startup circles, and posts that make it to the top of Hacker News' listings can get hundreds of thousands of visitors as a result.\n",
    "\n",
    "You can find the data set here, but note that it has been reduced from almost 300,000 rows to approximately 20,000 rows by removing all submissions that did not receive any comments, and then randomly sampling from the remaining submissions.\n",
    "\n",
    "We're specifically interested in posts whose titles begin with either Ask HN or Show HN. Users submit Ask HN posts to ask the Hacker News community a specific question. Likewise, users submit Show HN posts to show the Hacker News community a project, product, or just generally something interesting.\n",
    "\n",
    "We'll compare these two types of posts to determine the following:\n",
    "\n",
    "1. Do Ask HN or Show HN receive more comments on average?\n",
    "2. Do posts created at a certain time receive more comments on average?"
   ]
  },
  {
   "cell_type": "code",
   "execution_count": 1,
   "metadata": {
    "collapsed": false
   },
   "outputs": [
    {
     "name": "stdout",
     "output_type": "stream",
     "text": [
      "These are the headers: ['id', 'title', 'url', 'num_points', 'num_comments', 'author', 'created_at']\n",
      "\n",
      "\n",
      "First 5 rows of hn dataset:\n",
      "[['12224879', 'Interactive Dynamic Video', 'http://www.interactivedynamicvideo.com/', '386', '52', 'ne0phyte', '8/4/2016 11:52'], ['10975351', 'How to Use Open Source and Shut the Fuck Up at the Same Time', 'http://hueniverse.com/2016/01/26/how-to-use-open-source-and-shut-the-fuck-up-at-the-same-time/', '39', '10', 'josep2', '1/26/2016 19:30'], ['11964716', \"Florida DJs May Face Felony for April Fools' Water Joke\", 'http://www.thewire.com/entertainment/2013/04/florida-djs-april-fools-water-joke/63798/', '2', '1', 'vezycash', '6/23/2016 22:20'], ['11919867', 'Technology ventures: From Idea to Enterprise', 'https://www.amazon.com/Technology-Ventures-Enterprise-Thomas-Byers/dp/0073523429', '3', '1', 'hswarna', '6/17/2016 0:01'], ['10301696', 'Note by Note: The Making of Steinway L1037 (2007)', 'http://www.nytimes.com/2007/11/07/movies/07stein.html?_r=0', '8', '2', 'walterbell', '9/30/2015 4:12']]\n",
      "\n",
      "\n",
      "Length of hn: 20100\n"
     ]
    }
   ],
   "source": [
    "from csv import reader\n",
    "open_file = open('hacker_news.csv')\n",
    "read_file = reader(open_file)\n",
    "hn = list(read_file)\n",
    "\n",
    "# Remove headers from the list\n",
    "headers = hn[0]\n",
    "hn = hn[1:]\n",
    "\n",
    "print('These are the headers: ' + str(headers))\n",
    "print('\\n')\n",
    "print('First 5 rows of hn dataset:')\n",
    "print(hn[0:5])\n",
    "print('\\n')\n",
    "print('Length of hn: '+str(len(hn)))"
   ]
  },
  {
   "cell_type": "markdown",
   "metadata": {},
   "source": [
    "# Extracting Ask HN and Show HN Posts"
   ]
  },
  {
   "cell_type": "markdown",
   "metadata": {},
   "source": [
    "First, identify posts that begin with either Ask HN or Show HN. Separating the two types will later help us determine which type of post should we focus the analysis on."
   ]
  },
  {
   "cell_type": "code",
   "execution_count": 10,
   "metadata": {
    "collapsed": false
   },
   "outputs": [
    {
     "name": "stdout",
     "output_type": "stream",
     "text": [
      "Total Ask HN Posts: 1744\n",
      "Total Show HN Posts: 1162\n",
      "Total Other HN Posts: 17194\n",
      "Sum of lists = Length of hn  CHECK\n"
     ]
    }
   ],
   "source": [
    "# Identify posts that begin with either `Ask HN` or `Show HN`\n",
    "# Then separate them into different lists\n",
    "ask_posts = []\n",
    "show_posts = []\n",
    "other_posts = []\n",
    "\n",
    "for post in hn:\n",
    "    title = str(post[1])\n",
    "    if title.lower().startswith('ask hn'):\n",
    "        ask_posts.append(post)\n",
    "    elif title.lower().startswith('show hn'):\n",
    "        show_posts.append(post)\n",
    "    else:\n",
    "        other_posts.append(post)\n",
    "\n",
    "print('Total Ask HN Posts: ' + str(len(ask_posts)))\n",
    "print('Total Show HN Posts: ' + str(len(show_posts)))\n",
    "print('Total Other HN Posts: ' + str(len(other_posts)))\n",
    "\n",
    "if len(ask_posts)+len(show_posts)+len(other_posts) == len(hn):\n",
    "    print('Sum of lists = Length of hn  CHECK')"
   ]
  },
  {
   "cell_type": "code",
   "execution_count": 3,
   "metadata": {
    "collapsed": false
   },
   "outputs": [
    {
     "name": "stdout",
     "output_type": "stream",
     "text": [
      "Average number of comments for \"Ask HN\" posts: 14.038417431192661\n",
      "Average number of comments for \"Show HN\" posts: 10.31669535283993\n"
     ]
    }
   ],
   "source": [
    "# Calculate the average number of comments `Ask HN` posts receive.\n",
    "total_ask_comments = 0\n",
    "\n",
    "for post in ask_posts:\n",
    "    total_ask_comments += int(post[4])\n",
    "    \n",
    "avg_ask_comments = total_ask_comments / len(ask_posts)\n",
    "print('Average number of comments for \"Ask HN\" posts: ' + str(avg_ask_comments))\n",
    "\n",
    "# Calculate the average number of comments `Show HN` posts receive.\n",
    "total_show_comments = 0\n",
    "\n",
    "for post in show_posts:\n",
    "    total_show_comments += int(post[4])\n",
    "    \n",
    "avg_show_comments = total_show_comments / len(show_posts)\n",
    "print('Average number of comments for \"Show HN\" posts: ' + str(avg_show_comments))"
   ]
  },
  {
   "cell_type": "markdown",
   "metadata": {
    "collapsed": true
   },
   "source": [
    "On average, ask posts in our sample receive approximately 14 comments, whereas show posts receive approximately 10. Since ask posts are more likely to receive comments, we'll focus on these posts for the rest of the project."
   ]
  },
  {
   "cell_type": "markdown",
   "metadata": {},
   "source": [
    "# Finding the Amount of Ask Posts and Comments by Hour Created"
   ]
  },
  {
   "cell_type": "code",
   "execution_count": 4,
   "metadata": {
    "collapsed": false
   },
   "outputs": [
    {
     "data": {
      "text/plain": [
       "{'00': 457,\n",
       " '01': 716,\n",
       " '02': 1384,\n",
       " '03': 422,\n",
       " '04': 340,\n",
       " '05': 493,\n",
       " '06': 398,\n",
       " '07': 269,\n",
       " '08': 497,\n",
       " '09': 257,\n",
       " '10': 794,\n",
       " '11': 643,\n",
       " '12': 691,\n",
       " '13': 1282,\n",
       " '14': 1419,\n",
       " '15': 4478,\n",
       " '16': 1831,\n",
       " '17': 1147,\n",
       " '18': 1441,\n",
       " '19': 1191,\n",
       " '20': 1724,\n",
       " '21': 1749,\n",
       " '22': 481,\n",
       " '23': 544}"
      ]
     },
     "execution_count": 4,
     "metadata": {},
     "output_type": "execute_result"
    }
   ],
   "source": [
    "import datetime as dt\n",
    "\n",
    "result_list = [] # list of creation dates and number of comments per post in ask_posts\n",
    "\n",
    "for post in ask_posts:\n",
    "    created_at = post[6]\n",
    "    num_comments = post[4]\n",
    "    result_list.append([created_at, int(num_comments)])\n",
    "\n",
    "counts_by_hour = {} # contains the number of ask posts created during each hour of the day.\n",
    "comments_by_hour = {} # contains the corresponding number of comments ask posts created at each hour received.\n",
    "date_format = \"%m/%d/%Y %H:%M\"\n",
    "\n",
    "for row in result_list:\n",
    "    date = row[0]\n",
    "    comment = row[1]\n",
    "    hour = dt.datetime.strptime(date, date_format).strftime(\"%H\")\n",
    "    if hour not in counts_by_hour:\n",
    "        counts_by_hour[hour] = 1\n",
    "        comments_by_hour[hour] = comment\n",
    "    if hour in comments_by_hour:\n",
    "        counts_by_hour[hour] += 1\n",
    "        comments_by_hour[hour] += comment\n",
    "comments_by_hour"
   ]
  },
  {
   "cell_type": "markdown",
   "metadata": {},
   "source": [
    "# Calculating the Average Number of Comments for Ask HN Posts by Hour"
   ]
  },
  {
   "cell_type": "code",
   "execution_count": 5,
   "metadata": {
    "collapsed": false
   },
   "outputs": [
    {
     "name": "stdout",
     "output_type": "stream",
     "text": [
      "['Hour', Average # of Commments]\n"
     ]
    },
    {
     "data": {
      "text/plain": [
       "[['11', 10.898305084745763],\n",
       " ['05', 10.48936170212766],\n",
       " ['09', 5.586956521739131],\n",
       " ['22', 6.680555555555555],\n",
       " ['17', 11.356435643564357],\n",
       " ['04', 7.083333333333333],\n",
       " ['07', 7.685714285714286],\n",
       " ['01', 11.737704918032787],\n",
       " ['13', 14.906976744186046],\n",
       " ['00', 8.160714285714286],\n",
       " ['12', 9.337837837837839],\n",
       " ['14', 13.13888888888889],\n",
       " ['23', 7.884057971014493],\n",
       " ['02', 23.45762711864407],\n",
       " ['16', 16.798165137614678],\n",
       " ['15', 38.27350427350427],\n",
       " ['03', 7.672727272727273],\n",
       " ['20', 21.28395061728395],\n",
       " ['08', 10.142857142857142],\n",
       " ['10', 13.233333333333333],\n",
       " ['19', 10.72972972972973],\n",
       " ['06', 8.844444444444445],\n",
       " ['18', 13.1],\n",
       " ['21', 15.9]]"
      ]
     },
     "execution_count": 5,
     "metadata": {},
     "output_type": "execute_result"
    }
   ],
   "source": [
    "avg_comments_per_hr = []\n",
    "\n",
    "# Average comments per hour is calculted by dividing the\n",
    "# total amount of comments by the amount of ask posts created per hour\n",
    "\n",
    "for hour in comments_by_hour:\n",
    "    avg_comments_per_hr.append([hour, comments_by_hour[hour]/counts_by_hour[hour]])\n",
    "\n",
    "print(\"['Hour', Average # of Commments]\")    \n",
    "avg_comments_per_hr"
   ]
  },
  {
   "cell_type": "markdown",
   "metadata": {},
   "source": [
    "# Sorting and Printing Values from a List of Lists"
   ]
  },
  {
   "cell_type": "code",
   "execution_count": 6,
   "metadata": {
    "collapsed": false
   },
   "outputs": [
    {
     "data": {
      "text/plain": [
       "[[38.27350427350427, '15'],\n",
       " [23.45762711864407, '02'],\n",
       " [21.28395061728395, '20'],\n",
       " [16.798165137614678, '16'],\n",
       " [15.9, '21'],\n",
       " [14.906976744186046, '13'],\n",
       " [13.233333333333333, '10'],\n",
       " [13.13888888888889, '14'],\n",
       " [13.1, '18'],\n",
       " [11.737704918032787, '01'],\n",
       " [11.356435643564357, '17'],\n",
       " [10.898305084745763, '11'],\n",
       " [10.72972972972973, '19'],\n",
       " [10.48936170212766, '05'],\n",
       " [10.142857142857142, '08'],\n",
       " [9.337837837837839, '12'],\n",
       " [8.844444444444445, '06'],\n",
       " [8.160714285714286, '00'],\n",
       " [7.884057971014493, '23'],\n",
       " [7.685714285714286, '07'],\n",
       " [7.672727272727273, '03'],\n",
       " [7.083333333333333, '04'],\n",
       " [6.680555555555555, '22'],\n",
       " [5.586956521739131, '09']]"
      ]
     },
     "execution_count": 6,
     "metadata": {},
     "output_type": "execute_result"
    }
   ],
   "source": [
    "from operator import itemgetter\n",
    "\n",
    "swap_avg_by_hr = []\n",
    "\n",
    "for row in avg_comments_per_hr:\n",
    "    swap_avg_by_hr.append([row[1],row[0]])\n",
    "\n",
    "sorted_swap = sorted(swap_avg_by_hr, key=itemgetter(0), reverse=True)\n",
    "\n",
    "sorted_swap"
   ]
  },
  {
   "cell_type": "code",
   "execution_count": 7,
   "metadata": {
    "collapsed": false
   },
   "outputs": [
    {
     "name": "stdout",
     "output_type": "stream",
     "text": [
      "Top 5 Hours for 'Ask HN' Comments\n",
      "15:00: 38.27 average comments per post\n",
      "02:00: 23.46 average comments per post\n",
      "20:00: 21.28 average comments per post\n",
      "16:00: 16.80 average comments per post\n",
      "21:00: 15.90 average comments per post\n"
     ]
    }
   ],
   "source": [
    "# Sort the values and print the the 5 hours with the highest average comments.\n",
    "\n",
    "print(\"Top 5 Hours for 'Ask HN' Comments\")\n",
    "for avg, hr in sorted_swap[:5]:\n",
    "    print(\n",
    "        \"{}: {:.2f} average comments per post\".format(\n",
    "            dt.datetime.strptime(hr, \"%H\").strftime(\"%H:%M\"),avg\n",
    "        )\n",
    "    )"
   ]
  },
  {
   "cell_type": "markdown",
   "metadata": {},
   "source": [
    "3:00pm is the hour that receives the most comments per post on average, with an average of 38.27 comments per post. There's about a 63% increase in the number of comments between the hours with the highest and second highest average number of comments."
   ]
  },
  {
   "cell_type": "markdown",
   "metadata": {},
   "source": [
    "# Conclusion"
   ]
  },
  {
   "cell_type": "markdown",
   "metadata": {},
   "source": [
    "In this project, I analyzed ask posts and show posts to determine which type of post, and at what time, receives the most comments on average. Based on the analysis, to maximize the amount of comments a post receives, I recommend the post be categorized as an \"Ask Post\" and created between 3:00pm EST and 4:00pm EST.\n",
    "\n",
    "Note: Posts with 0 comments were eliminated from the dataset."
   ]
  }
 ],
 "metadata": {
  "kernelspec": {
   "display_name": "Python 3",
   "language": "python",
   "name": "python3"
  },
  "language_info": {
   "codemirror_mode": {
    "name": "ipython",
    "version": 3
   },
   "file_extension": ".py",
   "mimetype": "text/x-python",
   "name": "python",
   "nbconvert_exporter": "python",
   "pygments_lexer": "ipython3",
   "version": "3.4.3"
  }
 },
 "nbformat": 4,
 "nbformat_minor": 2
}
